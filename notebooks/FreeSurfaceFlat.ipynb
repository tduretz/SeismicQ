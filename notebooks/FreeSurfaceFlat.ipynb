{
 "cells": [
  {
   "cell_type": "code",
   "execution_count": 3,
   "metadata": {},
   "outputs": [],
   "source": [
    "from sympy import *"
   ]
  },
  {
   "cell_type": "code",
   "execution_count": 22,
   "metadata": {},
   "outputs": [],
   "source": [
    "# Symbols\n",
    "x, y, z              = symbols('x, y, z')\n",
    "txx, tyy, tzz, P     = symbols('txx, tyy, tzz, P')\n",
    "txy, tyz, txz        = symbols('txy, tyz, txz')\n",
    "txx0, tyy0, tzz0, P0 = symbols('txx0, tyy0, txy0, P0')\n",
    "txy0, tyz0, txz0     = symbols('txy0, tyz0, txz0')\n",
    "Vx, Vy, Vz           = symbols('Vx, Vy, Vz')\n",
    "K, G                 = symbols('K, G')\n",
    "etab, etas           = symbols('eta_b, eta_s')\n",
    "thetab, thetas       = symbols('theta_b, theta_s')\n",
    "chib, chis           = symbols('chi_b, chi_s')\n",
    "Vx                   = Function('Vx')(x,y)\n",
    "Vy                   = Function('Vy')(x,y)\n",
    "Vz                   = Function('Vz')(x,y)\n",
    "hx, hy               = symbols('h_x, h_y')\n",
    "Lxx, Lyy, Lxy, Lyx   = symbols('Lxx, Lyy, Lxy, Lyx')\n",
    "Lzz, Lyz, Lzy       = symbols('Lzz, Lyz, Lzy')"
   ]
  },
  {
   "cell_type": "code",
   "execution_count": 23,
   "metadata": {},
   "outputs": [
    {
     "data": {
      "text/latex": [
       "$\\displaystyle \\left[\\begin{matrix}- P_{0} \\theta_{b} + \\eta_{b} \\left(\\frac{\\partial}{\\partial x} \\operatorname{Vx}{\\left(x,y \\right)} + \\frac{\\partial}{\\partial y} \\operatorname{Vy}{\\left(x,y \\right)}\\right) + 2 \\eta_{s} \\left(\\frac{2 \\frac{\\partial}{\\partial x} \\operatorname{Vx}{\\left(x,y \\right)}}{3} - \\frac{\\frac{\\partial}{\\partial y} \\operatorname{Vy}{\\left(x,y \\right)}}{3}\\right) + \\theta_{s} txx_{0} & 2 \\eta_{s} \\left(0.5 \\frac{\\partial}{\\partial y} \\operatorname{Vx}{\\left(x,y \\right)} + 0.5 \\frac{\\partial}{\\partial x} \\operatorname{Vy}{\\left(x,y \\right)}\\right) + \\theta_{s} txy_{0} & 1.0 \\eta_{s} \\frac{\\partial}{\\partial x} \\operatorname{Vz}{\\left(x,y \\right)} + \\theta_{s} txz_{0}\\\\2 \\eta_{s} \\left(0.5 \\frac{\\partial}{\\partial y} \\operatorname{Vx}{\\left(x,y \\right)} + 0.5 \\frac{\\partial}{\\partial x} \\operatorname{Vy}{\\left(x,y \\right)}\\right) + \\theta_{s} txy_{0} & - P_{0} \\theta_{b} + \\eta_{b} \\left(\\frac{\\partial}{\\partial x} \\operatorname{Vx}{\\left(x,y \\right)} + \\frac{\\partial}{\\partial y} \\operatorname{Vy}{\\left(x,y \\right)}\\right) + 2 \\eta_{s} \\left(- \\frac{\\frac{\\partial}{\\partial x} \\operatorname{Vx}{\\left(x,y \\right)}}{3} + \\frac{2 \\frac{\\partial}{\\partial y} \\operatorname{Vy}{\\left(x,y \\right)}}{3}\\right) + \\theta_{s} tyy_{0} & 1.0 \\eta_{s} \\frac{\\partial}{\\partial y} \\operatorname{Vz}{\\left(x,y \\right)} + \\theta_{s} tyz_{0}\\\\1.0 \\eta_{s} \\frac{\\partial}{\\partial x} \\operatorname{Vz}{\\left(x,y \\right)} + \\theta_{s} txz_{0} & 1.0 \\eta_{s} \\frac{\\partial}{\\partial y} \\operatorname{Vz}{\\left(x,y \\right)} + \\theta_{s} tyz_{0} & - P_{0} \\theta_{b} + \\eta_{b} \\left(\\frac{\\partial}{\\partial x} \\operatorname{Vx}{\\left(x,y \\right)} + \\frac{\\partial}{\\partial y} \\operatorname{Vy}{\\left(x,y \\right)}\\right) + 2 \\eta_{s} \\left(- \\frac{\\frac{\\partial}{\\partial x} \\operatorname{Vx}{\\left(x,y \\right)}}{3} - \\frac{\\frac{\\partial}{\\partial y} \\operatorname{Vy}{\\left(x,y \\right)}}{3}\\right) + \\theta_{s} txy_{0}\\end{matrix}\\right]$"
      ],
      "text/plain": [
       "Matrix([\n",
       "[-P0*theta_b + eta_b*(Derivative(Vx(x, y), x) + Derivative(Vy(x, y), y)) + 2*eta_s*(2*Derivative(Vx(x, y), x)/3 - Derivative(Vy(x, y), y)/3) + theta_s*txx0,                                                                          2*eta_s*(0.5*Derivative(Vx(x, y), y) + 0.5*Derivative(Vy(x, y), x)) + theta_s*txy0,                                                                                                          1.0*eta_s*Derivative(Vz(x, y), x) + theta_s*txz0],\n",
       "[                                                                        2*eta_s*(0.5*Derivative(Vx(x, y), y) + 0.5*Derivative(Vy(x, y), x)) + theta_s*txy0, -P0*theta_b + eta_b*(Derivative(Vx(x, y), x) + Derivative(Vy(x, y), y)) + 2*eta_s*(-Derivative(Vx(x, y), x)/3 + 2*Derivative(Vy(x, y), y)/3) + theta_s*tyy0,                                                                                                          1.0*eta_s*Derivative(Vz(x, y), y) + theta_s*tyz0],\n",
       "[                                                                                                          1.0*eta_s*Derivative(Vz(x, y), x) + theta_s*txz0,                                                                                                            1.0*eta_s*Derivative(Vz(x, y), y) + theta_s*tyz0, -P0*theta_b + eta_b*(Derivative(Vx(x, y), x) + Derivative(Vy(x, y), y)) + 2*eta_s*(-Derivative(Vx(x, y), x)/3 - Derivative(Vy(x, y), y)/3) + theta_s*txy0]])"
      ]
     },
     "execution_count": 23,
     "metadata": {},
     "output_type": "execute_result"
    }
   ],
   "source": [
    "# Total stress stensor\n",
    "divV = Vx.diff(x) + Vy.diff(y) + Vz.diff(z)\n",
    "Exx  = Vx.diff(x) - Rational(1,3)*divV\n",
    "Eyy  = Vy.diff(y) - Rational(1,3)*divV\n",
    "Ezz  = Vz.diff(z) - Rational(1,3)*divV\n",
    "Exy  = 1/2*(Vx.diff(y) + Vy.diff(x))\n",
    "Exz  = 1/2*(Vx.diff(z) + Vz.diff(x))\n",
    "Eyz  = 1/2*(Vz.diff(y) + Vy.diff(z))\n",
    "P    = thetab*P0-etab*divV\n",
    "E    = Matrix([[Exx, Exy,Exz],[Exy, Eyy,Eyz],[Exz, Eyz,Ezz]])\n",
    "D    = Matrix([[2*etas, 0, 0], [0, 2*etas,  0] ,[0, 0, 2*etas]])\n",
    "R    = Matrix([[thetas, 0, 0], [0, thetas,  0] ,[0, 0, thetas]])\n",
    "Tau0 = Matrix([[txx0, txy0,txz0],[txy0, tyy0,tyz0],[txz0, tyz0,tzz0]]) \n",
    "Tau  = R*Tau0 + D*E\n",
    "S    = -P*eye(3) + Tau\n",
    "S"
   ]
  },
  {
   "cell_type": "code",
   "execution_count": 24,
   "metadata": {},
   "outputs": [
    {
     "data": {
      "text/latex": [
       "$\\displaystyle \\left[\\begin{matrix}2 \\eta_{s} \\left(0.5 \\frac{\\partial}{\\partial y} \\operatorname{Vx}{\\left(x,y \\right)} + 0.5 \\frac{\\partial}{\\partial x} \\operatorname{Vy}{\\left(x,y \\right)}\\right) + \\theta_{s} txy_{0}\\\\- P_{0} \\theta_{b} + \\eta_{b} \\left(\\frac{\\partial}{\\partial x} \\operatorname{Vx}{\\left(x,y \\right)} + \\frac{\\partial}{\\partial y} \\operatorname{Vy}{\\left(x,y \\right)}\\right) + 2 \\eta_{s} \\left(- \\frac{\\frac{\\partial}{\\partial x} \\operatorname{Vx}{\\left(x,y \\right)}}{3} + \\frac{2 \\frac{\\partial}{\\partial y} \\operatorname{Vy}{\\left(x,y \\right)}}{3}\\right) + \\theta_{s} tyy_{0}\\\\1.0 \\eta_{s} \\frac{\\partial}{\\partial y} \\operatorname{Vz}{\\left(x,y \\right)} + \\theta_{s} tyz_{0}\\end{matrix}\\right]$"
      ],
      "text/plain": [
       "Matrix([\n",
       "[                                                                         2*eta_s*(0.5*Derivative(Vx(x, y), y) + 0.5*Derivative(Vy(x, y), x)) + theta_s*txy0],\n",
       "[-P0*theta_b + eta_b*(Derivative(Vx(x, y), x) + Derivative(Vy(x, y), y)) + 2*eta_s*(-Derivative(Vx(x, y), x)/3 + 2*Derivative(Vy(x, y), y)/3) + theta_s*tyy0],\n",
       "[                                                                                                           1.0*eta_s*Derivative(Vz(x, y), y) + theta_s*tyz0]])"
      ]
     },
     "execution_count": 24,
     "metadata": {},
     "output_type": "execute_result"
    }
   ],
   "source": [
    "# Traction for flat case\n",
    "n = Matrix([[0],[1],[0]])\n",
    "T = S*n\n",
    "T"
   ]
  },
  {
   "cell_type": "code",
   "execution_count": 29,
   "metadata": {},
   "outputs": [
    {
     "ename": "AttributeError",
     "evalue": "'Dict' object has no attribute '_diff_wrt'",
     "output_type": "error",
     "traceback": [
      "\u001b[0;31m---------------------------------------------------------------------------\u001b[0m",
      "\u001b[0;31mAttributeError\u001b[0m                            Traceback (most recent call last)",
      "Cell \u001b[0;32mIn[29], line 2\u001b[0m\n\u001b[1;32m      1\u001b[0m \u001b[39m# Solve for velocity gradient components to apply as BC\u001b[39;00m\n\u001b[0;32m----> 2\u001b[0m T \u001b[39m=\u001b[39m T\u001b[39m.\u001b[39msubs(Vx\u001b[39m.\u001b[39;49mdiff(x), Lxx)\u001b[39m.\u001b[39msubs(Vy\u001b[39m.\u001b[39mdiff(y), Lyy)\n\u001b[1;32m      3\u001b[0m T \u001b[39m=\u001b[39m T\u001b[39m.\u001b[39msubs(Vx\u001b[39m.\u001b[39mdiff(y), Lxy)\u001b[39m.\u001b[39msubs(Vy\u001b[39m.\u001b[39mdiff(x), Lyx)\n\u001b[1;32m      4\u001b[0m T \u001b[39m=\u001b[39m T\u001b[39m.\u001b[39msubs(Vz\u001b[39m.\u001b[39mdiff(y), Lzy)\u001b[39m.\u001b[39msubs(Vy\u001b[39m.\u001b[39mdiff(z), Lyz)\n",
      "File \u001b[0;32m/Library/Frameworks/Python.framework/Versions/3.11/lib/python3.11/site-packages/sympy/core/expr.py:3586\u001b[0m, in \u001b[0;36mExpr.diff\u001b[0;34m(self, *symbols, **assumptions)\u001b[0m\n\u001b[1;32m   3584\u001b[0m \u001b[39mdef\u001b[39;00m \u001b[39mdiff\u001b[39m(\u001b[39mself\u001b[39m, \u001b[39m*\u001b[39msymbols, \u001b[39m*\u001b[39m\u001b[39m*\u001b[39massumptions):\n\u001b[1;32m   3585\u001b[0m     assumptions\u001b[39m.\u001b[39msetdefault(\u001b[39m\"\u001b[39m\u001b[39mevaluate\u001b[39m\u001b[39m\"\u001b[39m, \u001b[39mTrue\u001b[39;00m)\n\u001b[0;32m-> 3586\u001b[0m     \u001b[39mreturn\u001b[39;00m _derivative_dispatch(\u001b[39mself\u001b[39;49m, \u001b[39m*\u001b[39;49msymbols, \u001b[39m*\u001b[39;49m\u001b[39m*\u001b[39;49massumptions)\n",
      "File \u001b[0;32m/Library/Frameworks/Python.framework/Versions/3.11/lib/python3.11/site-packages/sympy/core/function.py:1909\u001b[0m, in \u001b[0;36m_derivative_dispatch\u001b[0;34m(expr, *variables, **kwargs)\u001b[0m\n\u001b[1;32m   1907\u001b[0m     \u001b[39mfrom\u001b[39;00m \u001b[39msympy\u001b[39;00m\u001b[39m.\u001b[39;00m\u001b[39mtensor\u001b[39;00m\u001b[39m.\u001b[39;00m\u001b[39marray\u001b[39;00m\u001b[39m.\u001b[39;00m\u001b[39marray_derivatives\u001b[39;00m \u001b[39mimport\u001b[39;00m ArrayDerivative\n\u001b[1;32m   1908\u001b[0m     \u001b[39mreturn\u001b[39;00m ArrayDerivative(expr, \u001b[39m*\u001b[39mvariables, \u001b[39m*\u001b[39m\u001b[39m*\u001b[39mkwargs)\n\u001b[0;32m-> 1909\u001b[0m \u001b[39mreturn\u001b[39;00m Derivative(expr, \u001b[39m*\u001b[39;49mvariables, \u001b[39m*\u001b[39;49m\u001b[39m*\u001b[39;49mkwargs)\n",
      "File \u001b[0;32m/Library/Frameworks/Python.framework/Versions/3.11/lib/python3.11/site-packages/sympy/core/function.py:1332\u001b[0m, in \u001b[0;36mDerivative.__new__\u001b[0;34m(cls, expr, *variables, **kwargs)\u001b[0m\n\u001b[1;32m   1327\u001b[0m \u001b[39m# sanity check of variables of differentation; we waited\u001b[39;00m\n\u001b[1;32m   1328\u001b[0m \u001b[39m# until the counts were computed since some variables may\u001b[39;00m\n\u001b[1;32m   1329\u001b[0m \u001b[39m# have been removed because the count was 0\u001b[39;00m\n\u001b[1;32m   1330\u001b[0m \u001b[39mfor\u001b[39;00m v, c \u001b[39min\u001b[39;00m variable_count:\n\u001b[1;32m   1331\u001b[0m     \u001b[39m# v must have _diff_wrt True\u001b[39;00m\n\u001b[0;32m-> 1332\u001b[0m     \u001b[39mif\u001b[39;00m \u001b[39mnot\u001b[39;00m v\u001b[39m.\u001b[39;49m_diff_wrt:\n\u001b[1;32m   1333\u001b[0m         __ \u001b[39m=\u001b[39m \u001b[39m'\u001b[39m\u001b[39m'\u001b[39m  \u001b[39m# filler to make error message neater\u001b[39;00m\n\u001b[1;32m   1334\u001b[0m         \u001b[39mraise\u001b[39;00m \u001b[39mValueError\u001b[39;00m(filldedent(\u001b[39m'''\u001b[39m\n\u001b[1;32m   1335\u001b[0m \u001b[39m            Can\u001b[39m\u001b[39m'\u001b[39m\u001b[39mt calculate derivative wrt \u001b[39m\u001b[39m%s\u001b[39;00m\u001b[39m.\u001b[39m\u001b[39m%s\u001b[39;00m\u001b[39m'''\u001b[39m \u001b[39m%\u001b[39m (v,\n\u001b[1;32m   1336\u001b[0m             __)))\n",
      "\u001b[0;31mAttributeError\u001b[0m: 'Dict' object has no attribute '_diff_wrt'"
     ]
    }
   ],
   "source": [
    "# Solve for velocity gradient components to apply as BC\n",
    "T = T.subs(Vx.diff(x), Lxx).subs(Vy.diff(y), Lyy)\n",
    "T = T.subs(Vx.diff(y), Lxy).subs(Vy.diff(x), Lyx)\n",
    "T = T.subs(Vz.diff(y), Lzy).subs(Vy.diff(z), Lyz)\n",
    "x = solve(T, (Lxy, Lyy, Lzy))\n",
    "print('Lxy = '+ julia_code(x[Lxy]))\n",
    "print('Lyy = '+ julia_code(x[Lyy])) \n",
    "print('Lzy = '+ julia_code(x[Lzy]))  "
   ]
  },
  {
   "cell_type": "code",
   "execution_count": null,
   "metadata": {},
   "outputs": [],
   "source": []
  }
 ],
 "metadata": {
  "kernelspec": {
   "display_name": "Python 3",
   "language": "python",
   "name": "python3"
  },
  "language_info": {
   "codemirror_mode": {
    "name": "ipython",
    "version": 3
   },
   "file_extension": ".py",
   "mimetype": "text/x-python",
   "name": "python",
   "nbconvert_exporter": "python",
   "pygments_lexer": "ipython3",
   "version": "3.11.4"
  },
  "orig_nbformat": 4
 },
 "nbformat": 4,
 "nbformat_minor": 2
}
