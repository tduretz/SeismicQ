{
 "cells": [
  {
   "cell_type": "code",
   "execution_count": 1,
   "metadata": {},
   "outputs": [],
   "source": [
    "from sympy import *\n"
   ]
  },
  {
   "cell_type": "code",
   "execution_count": 2,
   "metadata": {},
   "outputs": [],
   "source": [
    "# Symbols\n",
    "x, y, z              = symbols('x, y, z')\n",
    "txx, tyy, tzz, P     = symbols('txx, tyy, tzz, P')\n",
    "txy, tyz, txz        = symbols('txy, tyz, txz')\n",
    "txx0, tyy0, tzz0, P0 = symbols('txx0, tyy0, txy0, P0')\n",
    "txy0, tyz0, txz0     = symbols('txy0, tyz0, txz0')\n",
    "Vx, Vy, Vz           = symbols('Vx, Vy, Vz')\n",
    "K, G                 = symbols('K, G')\n",
    "etab, etas           = symbols('eta_b, eta_s')\n",
    "thetab, thetas       = symbols('theta_b, theta_s')\n",
    "chib, chis           = symbols('chi_b, chi_s')\n",
    "Vx                   = Function('Vx')(x,y)\n",
    "Vy                   = Function('Vy')(x,y)\n",
    "Vz                   = Function('Vz')(x,y)\n",
    "hx, hy               = symbols('h_x, h_y')\n",
    "Lxx, Lyy, Lxy, Lyx   = symbols('Lxx, Lyy, Lxy, Lyx')\n",
    "Lzz, Lyz, Lzy       = symbols('Lzz, Lyz, Lzy')"
   ]
  },
  {
   "cell_type": "code",
   "execution_count": 3,
   "metadata": {},
   "outputs": [
    {
     "data": {
      "text/latex": [
       "$\\displaystyle \\left[\\begin{matrix}- P_{0} \\theta_{b} + \\eta_{b} \\left(\\frac{\\partial}{\\partial x} \\operatorname{Vx}{\\left(x,y \\right)} + \\frac{\\partial}{\\partial y} \\operatorname{Vy}{\\left(x,y \\right)}\\right) + 2 \\eta_{s} \\left(\\frac{2 \\frac{\\partial}{\\partial x} \\operatorname{Vx}{\\left(x,y \\right)}}{3} - \\frac{\\frac{\\partial}{\\partial y} \\operatorname{Vy}{\\left(x,y \\right)}}{3}\\right) + \\theta_{s} txx_{0} & 2 \\eta_{s} \\left(0.5 \\frac{\\partial}{\\partial y} \\operatorname{Vx}{\\left(x,y \\right)} + 0.5 \\frac{\\partial}{\\partial x} \\operatorname{Vy}{\\left(x,y \\right)}\\right) + \\theta_{s} txy_{0} & 1.0 \\eta_{s} \\frac{\\partial}{\\partial x} \\operatorname{Vz}{\\left(x,y \\right)} + \\theta_{s} txz_{0}\\\\2 \\eta_{s} \\left(0.5 \\frac{\\partial}{\\partial y} \\operatorname{Vx}{\\left(x,y \\right)} + 0.5 \\frac{\\partial}{\\partial x} \\operatorname{Vy}{\\left(x,y \\right)}\\right) + \\theta_{s} txy_{0} & - P_{0} \\theta_{b} + \\eta_{b} \\left(\\frac{\\partial}{\\partial x} \\operatorname{Vx}{\\left(x,y \\right)} + \\frac{\\partial}{\\partial y} \\operatorname{Vy}{\\left(x,y \\right)}\\right) + 2 \\eta_{s} \\left(- \\frac{\\frac{\\partial}{\\partial x} \\operatorname{Vx}{\\left(x,y \\right)}}{3} + \\frac{2 \\frac{\\partial}{\\partial y} \\operatorname{Vy}{\\left(x,y \\right)}}{3}\\right) + \\theta_{s} tyy_{0} & 1.0 \\eta_{s} \\frac{\\partial}{\\partial y} \\operatorname{Vz}{\\left(x,y \\right)} + \\theta_{s} tyz_{0}\\\\1.0 \\eta_{s} \\frac{\\partial}{\\partial x} \\operatorname{Vz}{\\left(x,y \\right)} + \\theta_{s} txz_{0} & 1.0 \\eta_{s} \\frac{\\partial}{\\partial y} \\operatorname{Vz}{\\left(x,y \\right)} + \\theta_{s} tyz_{0} & - P_{0} \\theta_{b} + \\eta_{b} \\left(\\frac{\\partial}{\\partial x} \\operatorname{Vx}{\\left(x,y \\right)} + \\frac{\\partial}{\\partial y} \\operatorname{Vy}{\\left(x,y \\right)}\\right) + 2 \\eta_{s} \\left(- \\frac{\\frac{\\partial}{\\partial x} \\operatorname{Vx}{\\left(x,y \\right)}}{3} - \\frac{\\frac{\\partial}{\\partial y} \\operatorname{Vy}{\\left(x,y \\right)}}{3}\\right) + \\theta_{s} txy_{0}\\end{matrix}\\right]$"
      ],
      "text/plain": [
       "Matrix([\n",
       "[-P0*theta_b + eta_b*(Derivative(Vx(x, y), x) + Derivative(Vy(x, y), y)) + 2*eta_s*(2*Derivative(Vx(x, y), x)/3 - Derivative(Vy(x, y), y)/3) + theta_s*txx0,                                                                          2*eta_s*(0.5*Derivative(Vx(x, y), y) + 0.5*Derivative(Vy(x, y), x)) + theta_s*txy0,                                                                                                          1.0*eta_s*Derivative(Vz(x, y), x) + theta_s*txz0],\n",
       "[                                                                        2*eta_s*(0.5*Derivative(Vx(x, y), y) + 0.5*Derivative(Vy(x, y), x)) + theta_s*txy0, -P0*theta_b + eta_b*(Derivative(Vx(x, y), x) + Derivative(Vy(x, y), y)) + 2*eta_s*(-Derivative(Vx(x, y), x)/3 + 2*Derivative(Vy(x, y), y)/3) + theta_s*tyy0,                                                                                                          1.0*eta_s*Derivative(Vz(x, y), y) + theta_s*tyz0],\n",
       "[                                                                                                          1.0*eta_s*Derivative(Vz(x, y), x) + theta_s*txz0,                                                                                                            1.0*eta_s*Derivative(Vz(x, y), y) + theta_s*tyz0, -P0*theta_b + eta_b*(Derivative(Vx(x, y), x) + Derivative(Vy(x, y), y)) + 2*eta_s*(-Derivative(Vx(x, y), x)/3 - Derivative(Vy(x, y), y)/3) + theta_s*txy0]])"
      ]
     },
     "execution_count": 3,
     "metadata": {},
     "output_type": "execute_result"
    }
   ],
   "source": [
    "# Total stress stensor\n",
    "divV = Vx.diff(x) + Vy.diff(y) + Vz.diff(z)\n",
    "Exx  = Vx.diff(x) - Rational(1,3)*divV\n",
    "Eyy  = Vy.diff(y) - Rational(1,3)*divV\n",
    "Ezz  = Vz.diff(z) - Rational(1,3)*divV\n",
    "Exy  = 1/2*(Vx.diff(y) + Vy.diff(x))\n",
    "Exz  = 1/2*(Vx.diff(z) + Vz.diff(x))\n",
    "Eyz  = 1/2*(Vz.diff(y) + Vy.diff(z))\n",
    "P    = thetab*P0-etab*divV\n",
    "E    = Matrix([[Exx, Exy,Exz],[Exy, Eyy,Eyz],[Exz, Eyz,Ezz]])\n",
    "D    = Matrix([[2*etas, 0, 0], [0, 2*etas,  0] ,[0, 0, 2*etas]])\n",
    "R    = Matrix([[thetas, 0, 0], [0, thetas,  0] ,[0, 0, thetas]])\n",
    "Tau0 = Matrix([[txx0, txy0,txz0],[txy0, tyy0,tyz0],[txz0, tyz0,tzz0]]) \n",
    "Tau  = R*Tau0 + D*E\n",
    "S    = -P*eye(3) + Tau\n",
    "S"
   ]
  },
  {
   "cell_type": "code",
   "execution_count": 4,
   "metadata": {},
   "outputs": [
    {
     "data": {
      "text/latex": [
       "$\\displaystyle \\left[\\begin{matrix}2 \\eta_{s} \\left(0.5 \\frac{\\partial}{\\partial y} \\operatorname{Vx}{\\left(x,y \\right)} + 0.5 \\frac{\\partial}{\\partial x} \\operatorname{Vy}{\\left(x,y \\right)}\\right) + \\theta_{s} txy_{0}\\\\- P_{0} \\theta_{b} + \\eta_{b} \\left(\\frac{\\partial}{\\partial x} \\operatorname{Vx}{\\left(x,y \\right)} + \\frac{\\partial}{\\partial y} \\operatorname{Vy}{\\left(x,y \\right)}\\right) + 2 \\eta_{s} \\left(- \\frac{\\frac{\\partial}{\\partial x} \\operatorname{Vx}{\\left(x,y \\right)}}{3} + \\frac{2 \\frac{\\partial}{\\partial y} \\operatorname{Vy}{\\left(x,y \\right)}}{3}\\right) + \\theta_{s} tyy_{0}\\\\1.0 \\eta_{s} \\frac{\\partial}{\\partial y} \\operatorname{Vz}{\\left(x,y \\right)} + \\theta_{s} tyz_{0}\\end{matrix}\\right]$"
      ],
      "text/plain": [
       "Matrix([\n",
       "[                                                                         2*eta_s*(0.5*Derivative(Vx(x, y), y) + 0.5*Derivative(Vy(x, y), x)) + theta_s*txy0],\n",
       "[-P0*theta_b + eta_b*(Derivative(Vx(x, y), x) + Derivative(Vy(x, y), y)) + 2*eta_s*(-Derivative(Vx(x, y), x)/3 + 2*Derivative(Vy(x, y), y)/3) + theta_s*tyy0],\n",
       "[                                                                                                           1.0*eta_s*Derivative(Vz(x, y), y) + theta_s*tyz0]])"
      ]
     },
     "execution_count": 4,
     "metadata": {},
     "output_type": "execute_result"
    }
   ],
   "source": [
    "# Traction for flat case\n",
    "n = Matrix([[0],[1],[0]])\n",
    "T = S*n\n",
    "T"
   ]
  },
  {
   "cell_type": "code",
   "execution_count": 5,
   "metadata": {},
   "outputs": [
    {
     "name": "stdout",
     "output_type": "stream",
     "text": [
      "Lxy = (-Lyx .* eta_s - theta_s .* txy0) ./ eta_s\n",
      "Lyy = (-3.0 * Lxx .* eta_b + 2.0 * Lxx .* eta_s + 3.0 * P0 .* theta_b - 3.0 * theta_s .* tyy0) ./ (3.0 * eta_b + 4.0 * eta_s)\n",
      "Lzy = -theta_s .* tyz0 ./ eta_s\n"
     ]
    }
   ],
   "source": [
    "# Solve for velocity gradient components to apply as BC\n",
    "T = T.subs(Vx.diff(x), Lxx).subs(Vy.diff(y), Lyy)\n",
    "T = T.subs(Vx.diff(y), Lxy).subs(Vy.diff(x), Lyx)\n",
    "T = T.subs(Vz.diff(y), Lzy).subs(Vy.diff(z), Lyz)\n",
    "x = solve(T, (Lxy, Lyy, Lzy))\n",
    "print('Lxy = '+ julia_code(x[Lxy]))\n",
    "print('Lyy = '+ julia_code(x[Lyy])) \n",
    "print('Lzy = '+ julia_code(x[Lzy]))  "
   ]
  },
  {
   "cell_type": "code",
   "execution_count": null,
   "metadata": {},
   "outputs": [],
   "source": []
  }
 ],
 "metadata": {
  "kernelspec": {
   "display_name": "Python 3",
   "language": "python",
   "name": "python3"
  },
  "language_info": {
   "codemirror_mode": {
    "name": "ipython",
    "version": 3
   },
   "file_extension": ".py",
   "mimetype": "text/x-python",
   "name": "python",
   "nbconvert_exporter": "python",
   "pygments_lexer": "ipython3",
   "version": "3.9.6"
  },
  "orig_nbformat": 4
 },
 "nbformat": 4,
 "nbformat_minor": 2
}
